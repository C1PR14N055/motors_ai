{
 "cells": [
  {
   "cell_type": "markdown",
   "id": "bfc2d40a",
   "metadata": {},
   "source": [
    "# Construirea unui model matematic de regresie liniara multivariata\n",
    "\n",
    "`M`achine `L`earning, `A`rtificial `I`nteligence"
   ]
  },
  {
   "cell_type": "markdown",
   "id": "6b56fd6d",
   "metadata": {},
   "source": [
    "## 1. Importuri necesare, setari"
   ]
  },
  {
   "cell_type": "code",
   "execution_count": 1,
   "id": "1fdc5271",
   "metadata": {},
   "outputs": [],
   "source": [
    "# required imports\n",
    "import gzip\n",
    "import json\n",
    "import os\n",
    "import re\n",
    "\n",
    "# multi-array stuff\n",
    "import pandas as pd\n",
    "import numpy as np\n",
    "\n",
    "# plot stuff\n",
    "%matplotlib inline\n",
    "import matplotlib.pyplot as plt\n",
    "import seaborn as sea\n",
    "\n",
    "# import and set no warnigns\n",
    "import warnings\n",
    "warnings.filterwarnings('ignore')\n",
    "\n",
    "# set pd max cols / rows = 999\n",
    "# pd.options.display.max_columns = 999\n",
    "# pd.options.display.max_rows = 999"
   ]
  },
  {
   "cell_type": "markdown",
   "id": "84583239",
   "metadata": {},
   "source": [
    "## 2. Incarcare, parsare, modelare date AUTOVIT.RO"
   ]
  },
  {
   "cell_type": "code",
   "execution_count": 2,
   "id": "4ddfee46",
   "metadata": {},
   "outputs": [
    {
     "name": "stdout",
     "output_type": "stream",
     "text": [
      "** Total loaded adverts: 8306 **\n",
      "** Parsed usable adverts: 7076 **\n"
     ]
    }
   ],
   "source": [
    "def strip_nr(str_nr):\n",
    "    if str_nr is not None:\n",
    "        return int(re.sub(r'[^0-9]+', '', str_nr))\n",
    "    else:\n",
    "        raise TypeError\n",
    "    \n",
    "def get_listing_param(data, name):\n",
    "    for p in data['listing_params']:\n",
    "        if p[0] == name:\n",
    "            return p[1]\n",
    "    else:\n",
    "        return None\n",
    "\n",
    "def get_data():\n",
    "    raw_adverts = []\n",
    "    for root, dirs, files in os.walk('../database/autovit/adverts/'):\n",
    "        for name in files:\n",
    "            file = os.path.join(root, name)\n",
    "            with gzip.open(file, 'r') as fin:\n",
    "                raw_adverts.extend(json.loads(fin.read().decode('utf-8')))\n",
    "    print('** Total loaded adverts: {} **'.format(len(raw_adverts)))\n",
    "    raw_adverts[0].pop('photos', None)\n",
    "    return raw_adverts\n",
    "\n",
    "def parse_data(raw_adverts):\n",
    "    parsed_adverts = []\n",
    "    for ad in raw_adverts:\n",
    "        # Ad has req data, essential\n",
    "        if 'list_label' in ad \\\n",
    "            and get_listing_param(ad, 'Anul fabricatiei') is not None \\\n",
    "            and get_listing_param(ad, 'Kilometraj') is not None \\\n",
    "            and get_listing_param(ad, 'Combustibil') is not None \\\n",
    "            and 'features' in ad \\\n",
    "            and 'params' in ad:\n",
    "\n",
    "            # reshape params data\n",
    "            if 'params' in ad:\n",
    "                for p in ad['params']:\n",
    "                    ad[p[0]] = p[1]\n",
    "                # pop extra params\n",
    "                ad.pop('params', None)\n",
    "\n",
    "            # reshape features\n",
    "            if 'features' in ad:\n",
    "                for f in ad['features']:\n",
    "                    ad[f] = True\n",
    "                # pop extra features\n",
    "                ad.pop('features', None)\n",
    "\n",
    "            # format price as int only\n",
    "            if 'list_label' in ad:\n",
    "                ad['price'] = strip_nr(ad['list_label'])\n",
    "                ad.pop('list_label', None)\n",
    "            else:\n",
    "                print('No list label')\n",
    "\n",
    "            ad['fabrication_year'] = strip_nr(get_listing_param(ad, 'Anul fabricatiei'))\n",
    "            ad['kilometers'] = strip_nr(get_listing_param(ad, 'Kilometraj'))\n",
    "            ad['fuel'] = get_listing_param(ad, 'Combustibil').lower()\n",
    "            ad['brand_model'] = '{}-{}'.format(ad['Marca'], ad['Model'])\n",
    "\n",
    "            # Params\n",
    "            hp = ad['Putere'] if 'Putere' in ad else None\n",
    "            if hp is not None:\n",
    "                hp = strip_nr(hp.replace('CP', ''))\n",
    "                ad['horse_power'] = hp\n",
    "\n",
    "            co2 = ad['Emisii CO2'] if 'Emisii CO2' in ad else None\n",
    "            if co2 is not None:\n",
    "                co2 = strip_nr(co2.replace('g/km', ''))\n",
    "                ad['emissions'] = co2\n",
    "\n",
    "            # Listing params\n",
    "            cc = get_listing_param(ad, 'Capacitate cilindrica')\n",
    "            if cc is not None:\n",
    "                cc = strip_nr(cc.replace('cm3', ''))\n",
    "                ad['cubic_capacity'] = cc\n",
    "\n",
    "            # pop unused keys\n",
    "            ad.pop('photos', None)\n",
    "            ad.pop('description', None)\n",
    "\n",
    "            # append to list\n",
    "            parsed_adverts.append(ad)\n",
    "\n",
    "    return parsed_adverts\n",
    "\n",
    "\n",
    "adverts = parse_data(get_data())\n",
    "print('** Parsed usable adverts: {} **'.format(len(adverts)))"
   ]
  },
  {
   "cell_type": "markdown",
   "id": "14dda4e2",
   "metadata": {},
   "source": [
    "### Informatii despre dataset\n",
    "`count`, `mean`, `min`, `max`, `std = standard deviation`"
   ]
  },
  {
   "cell_type": "code",
   "execution_count": 3,
   "id": "f8763b07",
   "metadata": {},
   "outputs": [
    {
     "data": {
      "text/html": [
       "<div>\n",
       "<style scoped>\n",
       "    .dataframe tbody tr th:only-of-type {\n",
       "        vertical-align: middle;\n",
       "    }\n",
       "\n",
       "    .dataframe tbody tr th {\n",
       "        vertical-align: top;\n",
       "    }\n",
       "\n",
       "    .dataframe thead th {\n",
       "        text-align: right;\n",
       "    }\n",
       "</style>\n",
       "<table border=\"1\" class=\"dataframe\">\n",
       "  <thead>\n",
       "    <tr style=\"text-align: right;\">\n",
       "      <th></th>\n",
       "      <th>age</th>\n",
       "      <th>highlighted</th>\n",
       "      <th>urgent</th>\n",
       "      <th>topAd</th>\n",
       "      <th>category_id</th>\n",
       "      <th>business</th>\n",
       "      <th>hide_user_ads_button</th>\n",
       "      <th>dealer_logo_in_results</th>\n",
       "      <th>dealer_logo_in_ad_page</th>\n",
       "      <th>has_phone</th>\n",
       "      <th>has_email</th>\n",
       "      <th>map_radius</th>\n",
       "      <th>map_private_radius_size</th>\n",
       "      <th>ad_featured</th>\n",
       "      <th>price</th>\n",
       "      <th>fabrication_year</th>\n",
       "      <th>kilometers</th>\n",
       "      <th>horse_power</th>\n",
       "      <th>cubic_capacity</th>\n",
       "      <th>emissions</th>\n",
       "    </tr>\n",
       "  </thead>\n",
       "  <tbody>\n",
       "    <tr>\n",
       "      <th>count</th>\n",
       "      <td>7076.000000</td>\n",
       "      <td>7076.0</td>\n",
       "      <td>7076.0</td>\n",
       "      <td>7076.000000</td>\n",
       "      <td>7076.0</td>\n",
       "      <td>7076.000000</td>\n",
       "      <td>7076.0</td>\n",
       "      <td>7076.000000</td>\n",
       "      <td>7076.000000</td>\n",
       "      <td>7041.0</td>\n",
       "      <td>7076.0</td>\n",
       "      <td>7076.000000</td>\n",
       "      <td>7076.0</td>\n",
       "      <td>7076.0</td>\n",
       "      <td>7076.000000</td>\n",
       "      <td>7076.000000</td>\n",
       "      <td>7.076000e+03</td>\n",
       "      <td>6971.000000</td>\n",
       "      <td>6930.000000</td>\n",
       "      <td>4300.000000</td>\n",
       "    </tr>\n",
       "    <tr>\n",
       "      <th>mean</th>\n",
       "      <td>72.856416</td>\n",
       "      <td>0.0</td>\n",
       "      <td>0.0</td>\n",
       "      <td>0.029112</td>\n",
       "      <td>29.0</td>\n",
       "      <td>0.526286</td>\n",
       "      <td>0.0</td>\n",
       "      <td>0.405879</td>\n",
       "      <td>0.444460</td>\n",
       "      <td>1.0</td>\n",
       "      <td>1.0</td>\n",
       "      <td>0.044941</td>\n",
       "      <td>2.0</td>\n",
       "      <td>0.0</td>\n",
       "      <td>17453.285331</td>\n",
       "      <td>2013.341012</td>\n",
       "      <td>1.483653e+05</td>\n",
       "      <td>162.811218</td>\n",
       "      <td>1979.163348</td>\n",
       "      <td>140.655581</td>\n",
       "    </tr>\n",
       "    <tr>\n",
       "      <th>std</th>\n",
       "      <td>161.639753</td>\n",
       "      <td>0.0</td>\n",
       "      <td>0.0</td>\n",
       "      <td>0.168134</td>\n",
       "      <td>0.0</td>\n",
       "      <td>0.499344</td>\n",
       "      <td>0.0</td>\n",
       "      <td>0.491096</td>\n",
       "      <td>0.496941</td>\n",
       "      <td>0.0</td>\n",
       "      <td>0.0</td>\n",
       "      <td>0.207188</td>\n",
       "      <td>0.0</td>\n",
       "      <td>0.0</td>\n",
       "      <td>24438.151689</td>\n",
       "      <td>4.861911</td>\n",
       "      <td>9.915995e+04</td>\n",
       "      <td>77.720817</td>\n",
       "      <td>608.129025</td>\n",
       "      <td>42.736634</td>\n",
       "    </tr>\n",
       "    <tr>\n",
       "      <th>min</th>\n",
       "      <td>0.000000</td>\n",
       "      <td>0.0</td>\n",
       "      <td>0.0</td>\n",
       "      <td>0.000000</td>\n",
       "      <td>29.0</td>\n",
       "      <td>0.000000</td>\n",
       "      <td>0.0</td>\n",
       "      <td>0.000000</td>\n",
       "      <td>0.000000</td>\n",
       "      <td>1.0</td>\n",
       "      <td>1.0</td>\n",
       "      <td>0.000000</td>\n",
       "      <td>2.0</td>\n",
       "      <td>0.0</td>\n",
       "      <td>450.000000</td>\n",
       "      <td>1982.000000</td>\n",
       "      <td>1.000000e+00</td>\n",
       "      <td>2.000000</td>\n",
       "      <td>599.000000</td>\n",
       "      <td>1.000000</td>\n",
       "    </tr>\n",
       "    <tr>\n",
       "      <th>25%</th>\n",
       "      <td>0.000000</td>\n",
       "      <td>0.0</td>\n",
       "      <td>0.0</td>\n",
       "      <td>0.000000</td>\n",
       "      <td>29.0</td>\n",
       "      <td>0.000000</td>\n",
       "      <td>0.0</td>\n",
       "      <td>0.000000</td>\n",
       "      <td>0.000000</td>\n",
       "      <td>1.0</td>\n",
       "      <td>1.0</td>\n",
       "      <td>0.000000</td>\n",
       "      <td>2.0</td>\n",
       "      <td>0.0</td>\n",
       "      <td>5600.000000</td>\n",
       "      <td>2010.000000</td>\n",
       "      <td>7.808325e+04</td>\n",
       "      <td>110.000000</td>\n",
       "      <td>1598.000000</td>\n",
       "      <td>114.000000</td>\n",
       "    </tr>\n",
       "    <tr>\n",
       "      <th>50%</th>\n",
       "      <td>28.000000</td>\n",
       "      <td>0.0</td>\n",
       "      <td>0.0</td>\n",
       "      <td>0.000000</td>\n",
       "      <td>29.0</td>\n",
       "      <td>1.000000</td>\n",
       "      <td>0.0</td>\n",
       "      <td>0.000000</td>\n",
       "      <td>0.000000</td>\n",
       "      <td>1.0</td>\n",
       "      <td>1.0</td>\n",
       "      <td>0.000000</td>\n",
       "      <td>2.0</td>\n",
       "      <td>0.0</td>\n",
       "      <td>9999.000000</td>\n",
       "      <td>2014.000000</td>\n",
       "      <td>1.574355e+05</td>\n",
       "      <td>147.000000</td>\n",
       "      <td>1968.000000</td>\n",
       "      <td>135.000000</td>\n",
       "    </tr>\n",
       "    <tr>\n",
       "      <th>75%</th>\n",
       "      <td>69.000000</td>\n",
       "      <td>0.0</td>\n",
       "      <td>0.0</td>\n",
       "      <td>0.000000</td>\n",
       "      <td>29.0</td>\n",
       "      <td>1.000000</td>\n",
       "      <td>0.0</td>\n",
       "      <td>1.000000</td>\n",
       "      <td>1.000000</td>\n",
       "      <td>1.0</td>\n",
       "      <td>1.0</td>\n",
       "      <td>0.000000</td>\n",
       "      <td>2.0</td>\n",
       "      <td>0.0</td>\n",
       "      <td>19950.000000</td>\n",
       "      <td>2017.000000</td>\n",
       "      <td>2.110000e+05</td>\n",
       "      <td>190.000000</td>\n",
       "      <td>2000.000000</td>\n",
       "      <td>159.000000</td>\n",
       "    </tr>\n",
       "    <tr>\n",
       "      <th>max</th>\n",
       "      <td>4039.000000</td>\n",
       "      <td>0.0</td>\n",
       "      <td>0.0</td>\n",
       "      <td>1.000000</td>\n",
       "      <td>29.0</td>\n",
       "      <td>1.000000</td>\n",
       "      <td>0.0</td>\n",
       "      <td>1.000000</td>\n",
       "      <td>1.000000</td>\n",
       "      <td>1.0</td>\n",
       "      <td>1.0</td>\n",
       "      <td>1.000000</td>\n",
       "      <td>2.0</td>\n",
       "      <td>0.0</td>\n",
       "      <td>839496.000000</td>\n",
       "      <td>2021.000000</td>\n",
       "      <td>2.690000e+06</td>\n",
       "      <td>780.000000</td>\n",
       "      <td>6749.000000</td>\n",
       "      <td>1329.000000</td>\n",
       "    </tr>\n",
       "  </tbody>\n",
       "</table>\n",
       "</div>"
      ],
      "text/plain": [
       "               age  highlighted  urgent        topAd  category_id  \\\n",
       "count  7076.000000       7076.0  7076.0  7076.000000       7076.0   \n",
       "mean     72.856416          0.0     0.0     0.029112         29.0   \n",
       "std     161.639753          0.0     0.0     0.168134          0.0   \n",
       "min       0.000000          0.0     0.0     0.000000         29.0   \n",
       "25%       0.000000          0.0     0.0     0.000000         29.0   \n",
       "50%      28.000000          0.0     0.0     0.000000         29.0   \n",
       "75%      69.000000          0.0     0.0     0.000000         29.0   \n",
       "max    4039.000000          0.0     0.0     1.000000         29.0   \n",
       "\n",
       "          business  hide_user_ads_button  dealer_logo_in_results  \\\n",
       "count  7076.000000                7076.0             7076.000000   \n",
       "mean      0.526286                   0.0                0.405879   \n",
       "std       0.499344                   0.0                0.491096   \n",
       "min       0.000000                   0.0                0.000000   \n",
       "25%       0.000000                   0.0                0.000000   \n",
       "50%       1.000000                   0.0                0.000000   \n",
       "75%       1.000000                   0.0                1.000000   \n",
       "max       1.000000                   0.0                1.000000   \n",
       "\n",
       "       dealer_logo_in_ad_page  has_phone  has_email   map_radius  \\\n",
       "count             7076.000000     7041.0     7076.0  7076.000000   \n",
       "mean                 0.444460        1.0        1.0     0.044941   \n",
       "std                  0.496941        0.0        0.0     0.207188   \n",
       "min                  0.000000        1.0        1.0     0.000000   \n",
       "25%                  0.000000        1.0        1.0     0.000000   \n",
       "50%                  0.000000        1.0        1.0     0.000000   \n",
       "75%                  1.000000        1.0        1.0     0.000000   \n",
       "max                  1.000000        1.0        1.0     1.000000   \n",
       "\n",
       "       map_private_radius_size  ad_featured          price  fabrication_year  \\\n",
       "count                   7076.0       7076.0    7076.000000       7076.000000   \n",
       "mean                       2.0          0.0   17453.285331       2013.341012   \n",
       "std                        0.0          0.0   24438.151689          4.861911   \n",
       "min                        2.0          0.0     450.000000       1982.000000   \n",
       "25%                        2.0          0.0    5600.000000       2010.000000   \n",
       "50%                        2.0          0.0    9999.000000       2014.000000   \n",
       "75%                        2.0          0.0   19950.000000       2017.000000   \n",
       "max                        2.0          0.0  839496.000000       2021.000000   \n",
       "\n",
       "         kilometers  horse_power  cubic_capacity    emissions  \n",
       "count  7.076000e+03  6971.000000     6930.000000  4300.000000  \n",
       "mean   1.483653e+05   162.811218     1979.163348   140.655581  \n",
       "std    9.915995e+04    77.720817      608.129025    42.736634  \n",
       "min    1.000000e+00     2.000000      599.000000     1.000000  \n",
       "25%    7.808325e+04   110.000000     1598.000000   114.000000  \n",
       "50%    1.574355e+05   147.000000     1968.000000   135.000000  \n",
       "75%    2.110000e+05   190.000000     2000.000000   159.000000  \n",
       "max    2.690000e+06   780.000000     6749.000000  1329.000000  "
      ]
     },
     "execution_count": 3,
     "metadata": {},
     "output_type": "execute_result"
    }
   ],
   "source": [
    "df = pd.DataFrame(adverts)\n",
    "df.describe()"
   ]
  },
  {
   "cell_type": "markdown",
   "id": "43f51fbf",
   "metadata": {},
   "source": [
    "### Randurile si coloanele datasetului"
   ]
  },
  {
   "cell_type": "code",
   "execution_count": 4,
   "id": "5aedb653",
   "metadata": {},
   "outputs": [
    {
     "data": {
      "text/html": [
       "<div>\n",
       "<style scoped>\n",
       "    .dataframe tbody tr th:only-of-type {\n",
       "        vertical-align: middle;\n",
       "    }\n",
       "\n",
       "    .dataframe tbody tr th {\n",
       "        vertical-align: top;\n",
       "    }\n",
       "\n",
       "    .dataframe thead th {\n",
       "        text-align: right;\n",
       "    }\n",
       "</style>\n",
       "<table border=\"1\" class=\"dataframe\">\n",
       "  <thead>\n",
       "    <tr style=\"text-align: right;\">\n",
       "      <th></th>\n",
       "      <th>id</th>\n",
       "      <th>region_id</th>\n",
       "      <th>region_name</th>\n",
       "      <th>city_id</th>\n",
       "      <th>city_name</th>\n",
       "      <th>district_id</th>\n",
       "      <th>district_name</th>\n",
       "      <th>new_used</th>\n",
       "      <th>url</th>\n",
       "      <th>preview_url</th>\n",
       "      <th>...</th>\n",
       "      <th>brand_program_id</th>\n",
       "      <th>brand_program_small_logo</th>\n",
       "      <th>Avariata</th>\n",
       "      <th>Volan pe dreapta</th>\n",
       "      <th></th>\n",
       "      <th>Predare leasing</th>\n",
       "      <th>Plata initiala (la predare)</th>\n",
       "      <th>Valoare rata lunara</th>\n",
       "      <th>Numar de rate lunare ramase</th>\n",
       "      <th>Valoare reziduala</th>\n",
       "    </tr>\n",
       "  </thead>\n",
       "  <tbody>\n",
       "    <tr>\n",
       "      <th>0</th>\n",
       "      <td>7043759122</td>\n",
       "      <td>13</td>\n",
       "      <td>Timis</td>\n",
       "      <td>97411</td>\n",
       "      <td>Remetea Mare</td>\n",
       "      <td></td>\n",
       "      <td></td>\n",
       "      <td>used</td>\n",
       "      <td>https://www.autovit.ro/anunt/audi-a6-ID7GGTv6....</td>\n",
       "      <td>https://www.autovit.ro/i2/anunt/audi-a6-ID7GGT...</td>\n",
       "      <td>...</td>\n",
       "      <td>NaN</td>\n",
       "      <td>NaN</td>\n",
       "      <td>NaN</td>\n",
       "      <td>NaN</td>\n",
       "      <td>NaN</td>\n",
       "      <td>NaN</td>\n",
       "      <td>NaN</td>\n",
       "      <td>NaN</td>\n",
       "      <td>NaN</td>\n",
       "      <td>NaN</td>\n",
       "    </tr>\n",
       "    <tr>\n",
       "      <th>1</th>\n",
       "      <td>7044506685</td>\n",
       "      <td>42</td>\n",
       "      <td>Teleorman</td>\n",
       "      <td>69925</td>\n",
       "      <td>Videle</td>\n",
       "      <td></td>\n",
       "      <td></td>\n",
       "      <td>used</td>\n",
       "      <td>https://www.autovit.ro/anunt/audi-a4-ID7GK1Zz....</td>\n",
       "      <td>https://www.autovit.ro/i2/anunt/audi-a4-ID7GK1...</td>\n",
       "      <td>...</td>\n",
       "      <td>NaN</td>\n",
       "      <td>NaN</td>\n",
       "      <td>NaN</td>\n",
       "      <td>NaN</td>\n",
       "      <td>NaN</td>\n",
       "      <td>NaN</td>\n",
       "      <td>NaN</td>\n",
       "      <td>NaN</td>\n",
       "      <td>NaN</td>\n",
       "      <td>NaN</td>\n",
       "    </tr>\n",
       "    <tr>\n",
       "      <th>2</th>\n",
       "      <td>7044051670</td>\n",
       "      <td>35</td>\n",
       "      <td>Dambovita</td>\n",
       "      <td>63351</td>\n",
       "      <td>Targoviste</td>\n",
       "      <td></td>\n",
       "      <td></td>\n",
       "      <td>used</td>\n",
       "      <td>https://www.autovit.ro/anunt/audi-a4-2-0-ID7GI...</td>\n",
       "      <td>https://www.autovit.ro/i2/anunt/audi-a4-2-0-ID...</td>\n",
       "      <td>...</td>\n",
       "      <td>NaN</td>\n",
       "      <td>NaN</td>\n",
       "      <td>NaN</td>\n",
       "      <td>NaN</td>\n",
       "      <td>NaN</td>\n",
       "      <td>NaN</td>\n",
       "      <td>NaN</td>\n",
       "      <td>NaN</td>\n",
       "      <td>NaN</td>\n",
       "      <td>NaN</td>\n",
       "    </tr>\n",
       "    <tr>\n",
       "      <th>3</th>\n",
       "      <td>7044056336</td>\n",
       "      <td>12</td>\n",
       "      <td>Sibiu</td>\n",
       "      <td>34907</td>\n",
       "      <td>Talmaciu</td>\n",
       "      <td></td>\n",
       "      <td></td>\n",
       "      <td>used</td>\n",
       "      <td>https://www.autovit.ro/anunt/volkswagen-caddy-...</td>\n",
       "      <td>https://www.autovit.ro/i2/anunt/volkswagen-cad...</td>\n",
       "      <td>...</td>\n",
       "      <td>NaN</td>\n",
       "      <td>NaN</td>\n",
       "      <td>NaN</td>\n",
       "      <td>NaN</td>\n",
       "      <td>NaN</td>\n",
       "      <td>NaN</td>\n",
       "      <td>NaN</td>\n",
       "      <td>NaN</td>\n",
       "      <td>NaN</td>\n",
       "      <td>NaN</td>\n",
       "    </tr>\n",
       "    <tr>\n",
       "      <th>4</th>\n",
       "      <td>7044521035</td>\n",
       "      <td>34</td>\n",
       "      <td>Valcea</td>\n",
       "      <td>89649</td>\n",
       "      <td>Ramnicu Valcea</td>\n",
       "      <td></td>\n",
       "      <td></td>\n",
       "      <td>used</td>\n",
       "      <td>https://www.autovit.ro/anunt/opel-corsa-1-3-ID...</td>\n",
       "      <td>https://www.autovit.ro/i2/anunt/opel-corsa-1-3...</td>\n",
       "      <td>...</td>\n",
       "      <td>NaN</td>\n",
       "      <td>NaN</td>\n",
       "      <td>NaN</td>\n",
       "      <td>NaN</td>\n",
       "      <td>NaN</td>\n",
       "      <td>NaN</td>\n",
       "      <td>NaN</td>\n",
       "      <td>NaN</td>\n",
       "      <td>NaN</td>\n",
       "      <td>NaN</td>\n",
       "    </tr>\n",
       "  </tbody>\n",
       "</table>\n",
       "<p>5 rows × 172 columns</p>\n",
       "</div>"
      ],
      "text/plain": [
       "           id region_id region_name city_id       city_name district_id  \\\n",
       "0  7043759122        13       Timis   97411    Remetea Mare               \n",
       "1  7044506685        42   Teleorman   69925          Videle               \n",
       "2  7044051670        35   Dambovita   63351      Targoviste               \n",
       "3  7044056336        12       Sibiu   34907        Talmaciu               \n",
       "4  7044521035        34      Valcea   89649  Ramnicu Valcea               \n",
       "\n",
       "  district_name new_used                                                url  \\\n",
       "0                   used  https://www.autovit.ro/anunt/audi-a6-ID7GGTv6....   \n",
       "1                   used  https://www.autovit.ro/anunt/audi-a4-ID7GK1Zz....   \n",
       "2                   used  https://www.autovit.ro/anunt/audi-a4-2-0-ID7GI...   \n",
       "3                   used  https://www.autovit.ro/anunt/volkswagen-caddy-...   \n",
       "4                   used  https://www.autovit.ro/anunt/opel-corsa-1-3-ID...   \n",
       "\n",
       "                                         preview_url  ... brand_program_id  \\\n",
       "0  https://www.autovit.ro/i2/anunt/audi-a6-ID7GGT...  ...              NaN   \n",
       "1  https://www.autovit.ro/i2/anunt/audi-a4-ID7GK1...  ...              NaN   \n",
       "2  https://www.autovit.ro/i2/anunt/audi-a4-2-0-ID...  ...              NaN   \n",
       "3  https://www.autovit.ro/i2/anunt/volkswagen-cad...  ...              NaN   \n",
       "4  https://www.autovit.ro/i2/anunt/opel-corsa-1-3...  ...              NaN   \n",
       "\n",
       "  brand_program_small_logo Avariata  Volan pe dreapta       Predare leasing  \\\n",
       "0                      NaN      NaN               NaN  NaN              NaN   \n",
       "1                      NaN      NaN               NaN  NaN              NaN   \n",
       "2                      NaN      NaN               NaN  NaN              NaN   \n",
       "3                      NaN      NaN               NaN  NaN              NaN   \n",
       "4                      NaN      NaN               NaN  NaN              NaN   \n",
       "\n",
       "   Plata initiala (la predare)  Valoare rata lunara  \\\n",
       "0                          NaN                  NaN   \n",
       "1                          NaN                  NaN   \n",
       "2                          NaN                  NaN   \n",
       "3                          NaN                  NaN   \n",
       "4                          NaN                  NaN   \n",
       "\n",
       "  Numar de rate lunare ramase Valoare reziduala  \n",
       "0                         NaN               NaN  \n",
       "1                         NaN               NaN  \n",
       "2                         NaN               NaN  \n",
       "3                         NaN               NaN  \n",
       "4                         NaN               NaN  \n",
       "\n",
       "[5 rows x 172 columns]"
      ]
     },
     "execution_count": 4,
     "metadata": {},
     "output_type": "execute_result"
    }
   ],
   "source": [
    "df.head(5)"
   ]
  },
  {
   "cell_type": "markdown",
   "id": "46d13cf4",
   "metadata": {},
   "source": [
    "### Stergerea anomaliilor"
   ]
  },
  {
   "cell_type": "code",
   "execution_count": 5,
   "id": "fb66a74a",
   "metadata": {},
   "outputs": [],
   "source": [
    "def remove_outliers(x):\n",
    "    Q1 = df[x].quantile(0.25)\n",
    "    Q3 = df[x].quantile(0.75)\n",
    "    IQR = Q3 - Q1 # IQR is interquartile range. \n",
    "    filter = (df[x] >= Q1 - 1.5 * IQR) & (df[x] <= Q3 + 1.5 * IQR)\n",
    "    return df.loc[filter]  \n",
    "\n",
    "df = remove_outliers('price')\n",
    "df = remove_outliers('kilometers')\n",
    "df = remove_outliers('fabrication_year')\n",
    "df = remove_outliers('cubic_capacity')\n",
    "df = remove_outliers('horse_power')\n",
    "df = remove_outliers('emissions')"
   ]
  },
  {
   "cell_type": "markdown",
   "id": "dffed11b",
   "metadata": {},
   "source": [
    "## 3. Ipoteza in urma cercetarii statisticilor\n",
    "\n",
    "### Parametrii semnificativi (analiza vizuala):\n",
    "\n",
    "- [x] price\n",
    "- [x] ```'{}_{}'.format(brand, model)```\n",
    "- [x] fuel \n",
    "- [x] body\n",
    "- [x] kilometers (coef. negativ, relatie inversa)\n",
    "- [x] horse_power\n",
    "- [x] fabrication_year"
   ]
  },
  {
   "cell_type": "markdown",
   "id": "a0f689bf",
   "metadata": {},
   "source": [
    "## 4. Construirea unui sub-dataset\n",
    "\n",
    "Pentru `dataset`-ul acestui model sunt folosite doar 3 caracteristici de antrenare, si 1 caracteristica pentru prezicere\n",
    "\n",
    "```py\n",
    "# Example\n",
    "X['kilometers', 'horse_power', 'fabrication_year'] # train set\n",
    "y['price'] # predict set\n",
    "```"
   ]
  },
  {
   "cell_type": "code",
   "execution_count": 6,
   "id": "43723fe4",
   "metadata": {},
   "outputs": [
    {
     "data": {
      "text/html": [
       "<div>\n",
       "<style scoped>\n",
       "    .dataframe tbody tr th:only-of-type {\n",
       "        vertical-align: middle;\n",
       "    }\n",
       "\n",
       "    .dataframe tbody tr th {\n",
       "        vertical-align: top;\n",
       "    }\n",
       "\n",
       "    .dataframe thead th {\n",
       "        text-align: right;\n",
       "    }\n",
       "</style>\n",
       "<table border=\"1\" class=\"dataframe\">\n",
       "  <thead>\n",
       "    <tr style=\"text-align: right;\">\n",
       "      <th></th>\n",
       "      <th>price</th>\n",
       "      <th>kilometers</th>\n",
       "      <th>horse_power</th>\n",
       "      <th>fabrication_year</th>\n",
       "    </tr>\n",
       "  </thead>\n",
       "  <tbody>\n",
       "    <tr>\n",
       "      <th>1</th>\n",
       "      <td>8950</td>\n",
       "      <td>298350</td>\n",
       "      <td>143.0</td>\n",
       "      <td>2011</td>\n",
       "    </tr>\n",
       "    <tr>\n",
       "      <th>2</th>\n",
       "      <td>9599</td>\n",
       "      <td>206000</td>\n",
       "      <td>143.0</td>\n",
       "      <td>2013</td>\n",
       "    </tr>\n",
       "    <tr>\n",
       "      <th>3</th>\n",
       "      <td>9500</td>\n",
       "      <td>139795</td>\n",
       "      <td>140.0</td>\n",
       "      <td>2013</td>\n",
       "    </tr>\n",
       "    <tr>\n",
       "      <th>5</th>\n",
       "      <td>4500</td>\n",
       "      <td>241000</td>\n",
       "      <td>92.0</td>\n",
       "      <td>2011</td>\n",
       "    </tr>\n",
       "    <tr>\n",
       "      <th>6</th>\n",
       "      <td>21000</td>\n",
       "      <td>235000</td>\n",
       "      <td>184.0</td>\n",
       "      <td>2014</td>\n",
       "    </tr>\n",
       "  </tbody>\n",
       "</table>\n",
       "</div>"
      ],
      "text/plain": [
       "   price  kilometers  horse_power  fabrication_year\n",
       "1   8950      298350        143.0              2011\n",
       "2   9599      206000        143.0              2013\n",
       "3   9500      139795        140.0              2013\n",
       "5   4500      241000         92.0              2011\n",
       "6  21000      235000        184.0              2014"
      ]
     },
     "execution_count": 6,
     "metadata": {},
     "output_type": "execute_result"
    }
   ],
   "source": [
    "dtype = [\n",
    "    'price', \n",
    "    'kilometers',  \n",
    "    'horse_power', \n",
    "    'fabrication_year', \n",
    "]\n",
    "\n",
    "df_model = df[dtype]\n",
    "df_model.head()"
   ]
  },
  {
   "cell_type": "markdown",
   "id": "e9f7d8a5",
   "metadata": {},
   "source": [
    "## 5. Conversia datelor categorice in date ordinare"
   ]
  },
  {
   "cell_type": "code",
   "execution_count": 7,
   "id": "b7fd7ce8",
   "metadata": {},
   "outputs": [
    {
     "data": {
      "text/html": [
       "<div>\n",
       "<style scoped>\n",
       "    .dataframe tbody tr th:only-of-type {\n",
       "        vertical-align: middle;\n",
       "    }\n",
       "\n",
       "    .dataframe tbody tr th {\n",
       "        vertical-align: top;\n",
       "    }\n",
       "\n",
       "    .dataframe thead th {\n",
       "        text-align: right;\n",
       "    }\n",
       "</style>\n",
       "<table border=\"1\" class=\"dataframe\">\n",
       "  <thead>\n",
       "    <tr style=\"text-align: right;\">\n",
       "      <th></th>\n",
       "      <th>price</th>\n",
       "      <th>kilometers</th>\n",
       "      <th>horse_power</th>\n",
       "      <th>fabrication_year</th>\n",
       "    </tr>\n",
       "  </thead>\n",
       "  <tbody>\n",
       "    <tr>\n",
       "      <th>1</th>\n",
       "      <td>8950</td>\n",
       "      <td>298350</td>\n",
       "      <td>143.0</td>\n",
       "      <td>2011</td>\n",
       "    </tr>\n",
       "    <tr>\n",
       "      <th>2</th>\n",
       "      <td>9599</td>\n",
       "      <td>206000</td>\n",
       "      <td>143.0</td>\n",
       "      <td>2013</td>\n",
       "    </tr>\n",
       "    <tr>\n",
       "      <th>3</th>\n",
       "      <td>9500</td>\n",
       "      <td>139795</td>\n",
       "      <td>140.0</td>\n",
       "      <td>2013</td>\n",
       "    </tr>\n",
       "    <tr>\n",
       "      <th>5</th>\n",
       "      <td>4500</td>\n",
       "      <td>241000</td>\n",
       "      <td>92.0</td>\n",
       "      <td>2011</td>\n",
       "    </tr>\n",
       "    <tr>\n",
       "      <th>6</th>\n",
       "      <td>21000</td>\n",
       "      <td>235000</td>\n",
       "      <td>184.0</td>\n",
       "      <td>2014</td>\n",
       "    </tr>\n",
       "  </tbody>\n",
       "</table>\n",
       "</div>"
      ],
      "text/plain": [
       "   price  kilometers  horse_power  fabrication_year\n",
       "1   8950      298350        143.0              2011\n",
       "2   9599      206000        143.0              2013\n",
       "3   9500      139795        140.0              2013\n",
       "5   4500      241000         92.0              2011\n",
       "6  21000      235000        184.0              2014"
      ]
     },
     "execution_count": 7,
     "metadata": {},
     "output_type": "execute_result"
    }
   ],
   "source": [
    "# Defining the map function\n",
    "def dummies(x):\n",
    "    temp = pd.get_dummies(df_model[x], drop_first = True)\n",
    "    df_dummies = pd.concat([df_model, temp], axis = 1)\n",
    "    df_dummies.drop([x], axis = 1, inplace = True)\n",
    "    return df_dummies\n",
    "\n",
    "# Not the case for the training selected datase\n",
    "# df_model = dummies('Marca')\n",
    "\n",
    "# TODO: copy for model 5\n",
    "# df_model = dummies('brand_model')\n",
    "# df_model = dummies('fuel')\n",
    "# df_model = dummies('Caroserie')\n",
    "# df_model = dummies('emissions')\n",
    "\n",
    "df_model.head()"
   ]
  },
  {
   "cell_type": "markdown",
   "id": "d1165c0f",
   "metadata": {},
   "source": [
    "### Forma dataset-ului"
   ]
  },
  {
   "cell_type": "code",
   "execution_count": 8,
   "id": "32d9a80a",
   "metadata": {},
   "outputs": [
    {
     "data": {
      "text/plain": [
       "(3476, 4)"
      ]
     },
     "execution_count": 8,
     "metadata": {},
     "output_type": "execute_result"
    }
   ],
   "source": [
    "df_model.shape"
   ]
  },
  {
   "cell_type": "markdown",
   "id": "5c1b75b5",
   "metadata": {},
   "source": [
    "## 6. Impartirea dataset-ului in doua dataset-uri\n",
    "\n",
    "```py\n",
    "df_train = 0.8 * df # used to train the model\n",
    "df_test  = 0.2 * df # used to test the model\n",
    "```"
   ]
  },
  {
   "cell_type": "code",
   "execution_count": 9,
   "id": "55c188a2",
   "metadata": {},
   "outputs": [],
   "source": [
    "from sklearn.model_selection import train_test_split\n",
    "\n",
    "def clean_dataset(df):\n",
    "    assert isinstance(df, pd.DataFrame), \"df needs to be a pd.DataFrame\"\n",
    "    df.dropna(inplace=True)\n",
    "    indices_to_keep = ~df.isin([np.nan, np.inf, -np.inf]).any(1)\n",
    "    return df[indices_to_keep].astype(np.float64)\n",
    "\n",
    "\n",
    "# clean of NaN, inf, -inf\n",
    "df_model = clean_dataset(df_model)\n",
    "np.random.seed(0)\n",
    "\n",
    "# split data \n",
    "df_train, df_test = train_test_split(df_model, train_size = 0.8, test_size = 0.2, random_state = 100)"
   ]
  },
  {
   "cell_type": "markdown",
   "id": "06797879",
   "metadata": {},
   "source": [
    "## 7. Scalarea / uniformizarea datelor (0.0 - 1.0)"
   ]
  },
  {
   "cell_type": "code",
   "execution_count": 10,
   "id": "10d65cce",
   "metadata": {},
   "outputs": [],
   "source": [
    "from sklearn.preprocessing import MinMaxScaler\n",
    "\n",
    "scaler = MinMaxScaler()\n",
    "df_train[dtype] = scaler.fit_transform(df_train[dtype])"
   ]
  },
  {
   "cell_type": "code",
   "execution_count": 11,
   "id": "57e03321",
   "metadata": {},
   "outputs": [
    {
     "data": {
      "text/html": [
       "<div>\n",
       "<style scoped>\n",
       "    .dataframe tbody tr th:only-of-type {\n",
       "        vertical-align: middle;\n",
       "    }\n",
       "\n",
       "    .dataframe tbody tr th {\n",
       "        vertical-align: top;\n",
       "    }\n",
       "\n",
       "    .dataframe thead th {\n",
       "        text-align: right;\n",
       "    }\n",
       "</style>\n",
       "<table border=\"1\" class=\"dataframe\">\n",
       "  <thead>\n",
       "    <tr style=\"text-align: right;\">\n",
       "      <th></th>\n",
       "      <th>price</th>\n",
       "      <th>kilometers</th>\n",
       "      <th>horse_power</th>\n",
       "      <th>fabrication_year</th>\n",
       "    </tr>\n",
       "  </thead>\n",
       "  <tbody>\n",
       "    <tr>\n",
       "      <th>count</th>\n",
       "      <td>2780.000000</td>\n",
       "      <td>2780.000000</td>\n",
       "      <td>2780.000000</td>\n",
       "      <td>2780.000000</td>\n",
       "    </tr>\n",
       "    <tr>\n",
       "      <th>mean</th>\n",
       "      <td>0.260491</td>\n",
       "      <td>0.410318</td>\n",
       "      <td>0.443395</td>\n",
       "      <td>0.677893</td>\n",
       "    </tr>\n",
       "    <tr>\n",
       "      <th>std</th>\n",
       "      <td>0.198511</td>\n",
       "      <td>0.211042</td>\n",
       "      <td>0.194687</td>\n",
       "      <td>0.184691</td>\n",
       "    </tr>\n",
       "    <tr>\n",
       "      <th>min</th>\n",
       "      <td>0.000000</td>\n",
       "      <td>0.000000</td>\n",
       "      <td>0.000000</td>\n",
       "      <td>0.000000</td>\n",
       "    </tr>\n",
       "    <tr>\n",
       "      <th>25%</th>\n",
       "      <td>0.119745</td>\n",
       "      <td>0.264621</td>\n",
       "      <td>0.289474</td>\n",
       "      <td>0.541667</td>\n",
       "    </tr>\n",
       "    <tr>\n",
       "      <th>50%</th>\n",
       "      <td>0.200430</td>\n",
       "      <td>0.438501</td>\n",
       "      <td>0.452632</td>\n",
       "      <td>0.708333</td>\n",
       "    </tr>\n",
       "    <tr>\n",
       "      <th>75%</th>\n",
       "      <td>0.349836</td>\n",
       "      <td>0.561496</td>\n",
       "      <td>0.580263</td>\n",
       "      <td>0.833333</td>\n",
       "    </tr>\n",
       "    <tr>\n",
       "      <th>max</th>\n",
       "      <td>1.000000</td>\n",
       "      <td>1.000000</td>\n",
       "      <td>1.000000</td>\n",
       "      <td>1.000000</td>\n",
       "    </tr>\n",
       "  </tbody>\n",
       "</table>\n",
       "</div>"
      ],
      "text/plain": [
       "             price   kilometers  horse_power  fabrication_year\n",
       "count  2780.000000  2780.000000  2780.000000       2780.000000\n",
       "mean      0.260491     0.410318     0.443395          0.677893\n",
       "std       0.198511     0.211042     0.194687          0.184691\n",
       "min       0.000000     0.000000     0.000000          0.000000\n",
       "25%       0.119745     0.264621     0.289474          0.541667\n",
       "50%       0.200430     0.438501     0.452632          0.708333\n",
       "75%       0.349836     0.561496     0.580263          0.833333\n",
       "max       1.000000     1.000000     1.000000          1.000000"
      ]
     },
     "execution_count": 11,
     "metadata": {},
     "output_type": "execute_result"
    }
   ],
   "source": [
    "df_train.describe()"
   ]
  },
  {
   "cell_type": "markdown",
   "id": "b1f3a356",
   "metadata": {},
   "source": [
    "### Intercorelarea parametriilor"
   ]
  },
  {
   "cell_type": "code",
   "execution_count": 12,
   "id": "f25892af",
   "metadata": {},
   "outputs": [
    {
     "data": {
      "image/png": "[encoded data removed]",
      "text/plain": [
       "<Figure size 864x720 with 2 Axes>"
      ]
     },
     "metadata": {
      "needs_background": "light"
     },
     "output_type": "display_data"
    }
   ],
   "source": [
    "plt.figure(figsize = (12, 10))\n",
    "sea.heatmap(df_train.corr(), annot = True, cmap=\"YlOrRd\")\n",
    "plt.show()"
   ]
  },
  {
   "cell_type": "markdown",
   "id": "7e5570cb",
   "metadata": {},
   "source": [
    "## 8. Impartirea datasetului df_train in X, y"
   ]
  },
  {
   "cell_type": "code",
   "execution_count": 13,
   "id": "49e11fa3",
   "metadata": {},
   "outputs": [
    {
     "data": {
      "text/html": [
       "<div>\n",
       "<style scoped>\n",
       "    .dataframe tbody tr th:only-of-type {\n",
       "        vertical-align: middle;\n",
       "    }\n",
       "\n",
       "    .dataframe tbody tr th {\n",
       "        vertical-align: top;\n",
       "    }\n",
       "\n",
       "    .dataframe thead th {\n",
       "        text-align: right;\n",
       "    }\n",
       "</style>\n",
       "<table border=\"1\" class=\"dataframe\">\n",
       "  <thead>\n",
       "    <tr style=\"text-align: right;\">\n",
       "      <th></th>\n",
       "      <th>kilometers</th>\n",
       "      <th>horse_power</th>\n",
       "      <th>fabrication_year</th>\n",
       "    </tr>\n",
       "  </thead>\n",
       "  <tbody>\n",
       "    <tr>\n",
       "      <th>6072</th>\n",
       "      <td>0.339001</td>\n",
       "      <td>0.342105</td>\n",
       "      <td>0.416667</td>\n",
       "    </tr>\n",
       "    <tr>\n",
       "      <th>216</th>\n",
       "      <td>0.504009</td>\n",
       "      <td>0.526316</td>\n",
       "      <td>0.791667</td>\n",
       "    </tr>\n",
       "    <tr>\n",
       "      <th>508</th>\n",
       "      <td>0.489303</td>\n",
       "      <td>0.257895</td>\n",
       "      <td>0.750000</td>\n",
       "    </tr>\n",
       "    <tr>\n",
       "      <th>5271</th>\n",
       "      <td>0.546881</td>\n",
       "      <td>0.263158</td>\n",
       "      <td>0.166667</td>\n",
       "    </tr>\n",
       "    <tr>\n",
       "      <th>1127</th>\n",
       "      <td>0.542780</td>\n",
       "      <td>0.342105</td>\n",
       "      <td>0.625000</td>\n",
       "    </tr>\n",
       "  </tbody>\n",
       "</table>\n",
       "</div>"
      ],
      "text/plain": [
       "      kilometers  horse_power  fabrication_year\n",
       "6072    0.339001     0.342105          0.416667\n",
       "216     0.504009     0.526316          0.791667\n",
       "508     0.489303     0.257895          0.750000\n",
       "5271    0.546881     0.263158          0.166667\n",
       "1127    0.542780     0.342105          0.625000"
      ]
     },
     "execution_count": 13,
     "metadata": {},
     "output_type": "execute_result"
    }
   ],
   "source": [
    "# X = columns to form ecuation \n",
    "X_train = df_train\n",
    "# y = column 'price', to form eq_res == y\n",
    "y_train = df_train.pop('price')\n",
    "\n",
    "if np.any(np.isnan(X_train)) or np.any(np.isnan(y_train)):\n",
    "    raise Exception\n",
    "\n",
    "X_train.head()"
   ]
  },
  {
   "cell_type": "markdown",
   "id": "08d7e3a6",
   "metadata": {},
   "source": [
    "## 9. Crearea modelului de regresie liniara si eliminarea caracteristicilor recursive\n",
    "\n",
    " `RFE` =  Recursive Feature Elimination, is a feature selection algorithm.  \n",
    "\n",
    "> Feature selection refers to techniques that select a subset of the most relevant features (columns) for a dataset.  \n",
    "> Fewer features can allow machine learning algorithms to run more efficiently (less space or time complexity) and be more effective"
   ]
  },
  {
   "cell_type": "code",
   "execution_count": 14,
   "id": "23f0d8b9",
   "metadata": {},
   "outputs": [],
   "source": [
    "# Recursive feature elimination\n",
    "# Pruning low correlation coef. features\n",
    "from sklearn.feature_selection import RFE\n",
    "from sklearn.linear_model import LinearRegression\n",
    "import statsmodels.api as sm \n",
    "from statsmodels.stats.outliers_influence import variance_inflation_factor\n",
    "\n",
    "lm = LinearRegression()\n",
    "lm.fit(X_train, y_train)\n",
    "rfe = RFE(lm, 10, verbose=1)\n",
    "rfe = rfe.fit(X_train, y_train)"
   ]
  },
  {
   "cell_type": "code",
   "execution_count": 15,
   "id": "65c59955",
   "metadata": {},
   "outputs": [
    {
     "data": {
      "text/plain": [
       "[('kilometers', True, 1),\n",
       " ('horse_power', True, 1),\n",
       " ('fabrication_year', True, 1)]"
      ]
     },
     "execution_count": 15,
     "metadata": {},
     "output_type": "execute_result"
    }
   ],
   "source": [
    "# Show list with supported features and ranking\n",
    "list(zip(X_train.columns, rfe.support_, rfe.ranking_))"
   ]
  },
  {
   "cell_type": "code",
   "execution_count": 16,
   "id": "0d3305bb",
   "metadata": {},
   "outputs": [
    {
     "data": {
      "text/plain": [
       "Index(['kilometers', 'horse_power', 'fabrication_year'], dtype='object')"
      ]
     },
     "execution_count": 16,
     "metadata": {},
     "output_type": "execute_result"
    }
   ],
   "source": [
    "X_train.columns[rfe.support_]"
   ]
  },
  {
   "cell_type": "markdown",
   "id": "9b6ff62d",
   "metadata": {},
   "source": [
    "### X_train_rfe = datasetul nou"
   ]
  },
  {
   "cell_type": "code",
   "execution_count": 17,
   "id": "440f9e73",
   "metadata": {},
   "outputs": [
    {
     "data": {
      "text/html": [
       "<div>\n",
       "<style scoped>\n",
       "    .dataframe tbody tr th:only-of-type {\n",
       "        vertical-align: middle;\n",
       "    }\n",
       "\n",
       "    .dataframe tbody tr th {\n",
       "        vertical-align: top;\n",
       "    }\n",
       "\n",
       "    .dataframe thead th {\n",
       "        text-align: right;\n",
       "    }\n",
       "</style>\n",
       "<table border=\"1\" class=\"dataframe\">\n",
       "  <thead>\n",
       "    <tr style=\"text-align: right;\">\n",
       "      <th></th>\n",
       "      <th>kilometers</th>\n",
       "      <th>horse_power</th>\n",
       "      <th>fabrication_year</th>\n",
       "    </tr>\n",
       "  </thead>\n",
       "  <tbody>\n",
       "    <tr>\n",
       "      <th>6072</th>\n",
       "      <td>0.339001</td>\n",
       "      <td>0.342105</td>\n",
       "      <td>0.416667</td>\n",
       "    </tr>\n",
       "    <tr>\n",
       "      <th>216</th>\n",
       "      <td>0.504009</td>\n",
       "      <td>0.526316</td>\n",
       "      <td>0.791667</td>\n",
       "    </tr>\n",
       "    <tr>\n",
       "      <th>508</th>\n",
       "      <td>0.489303</td>\n",
       "      <td>0.257895</td>\n",
       "      <td>0.750000</td>\n",
       "    </tr>\n",
       "    <tr>\n",
       "      <th>5271</th>\n",
       "      <td>0.546881</td>\n",
       "      <td>0.263158</td>\n",
       "      <td>0.166667</td>\n",
       "    </tr>\n",
       "    <tr>\n",
       "      <th>1127</th>\n",
       "      <td>0.542780</td>\n",
       "      <td>0.342105</td>\n",
       "      <td>0.625000</td>\n",
       "    </tr>\n",
       "  </tbody>\n",
       "</table>\n",
       "</div>"
      ],
      "text/plain": [
       "      kilometers  horse_power  fabrication_year\n",
       "6072    0.339001     0.342105          0.416667\n",
       "216     0.504009     0.526316          0.791667\n",
       "508     0.489303     0.257895          0.750000\n",
       "5271    0.546881     0.263158          0.166667\n",
       "1127    0.542780     0.342105          0.625000"
      ]
     },
     "execution_count": 17,
     "metadata": {},
     "output_type": "execute_result"
    }
   ],
   "source": [
    "X_train_rfe = X_train[X_train.columns[rfe.support_]]\n",
    "X_train_rfe.head()"
   ]
  },
  {
   "cell_type": "markdown",
   "id": "f1b979d6",
   "metadata": {},
   "source": [
    "## 10. Calcularea efectiva a modelului de Regresie Liniara cu datasetul X_train_rfe"
   ]
  },
  {
   "cell_type": "code",
   "execution_count": 18,
   "id": "b2008ec5",
   "metadata": {},
   "outputs": [],
   "source": [
    "def build_model(X, y):\n",
    "    X = sm.add_constant(X) # adding the constant col of 1 1 1 1 1\n",
    "    lm = sm.OLS(y, X).fit() # fitting the model\n",
    "    print(lm.summary()) # model summary\n",
    "    return X"
   ]
  },
  {
   "cell_type": "code",
   "execution_count": 19,
   "id": "5fae5565",
   "metadata": {},
   "outputs": [
    {
     "name": "stdout",
     "output_type": "stream",
     "text": [
      "                            OLS Regression Results                            \n",
      "==============================================================================\n",
      "Dep. Variable:                  price   R-squared:                       0.744\n",
      "Model:                            OLS   Adj. R-squared:                  0.744\n",
      "Method:                 Least Squares   F-statistic:                     2695.\n",
      "Date:                Fri, 09 Apr 2021   Prob (F-statistic):               0.00\n",
      "Time:                        15:59:06   Log-Likelihood:                 2446.9\n",
      "No. Observations:                2780   AIC:                            -4886.\n",
      "Df Residuals:                    2776   BIC:                            -4862.\n",
      "Df Model:                           3                                         \n",
      "Covariance Type:            nonrobust                                         \n",
      "====================================================================================\n",
      "                       coef    std err          t      P>|t|      [0.025      0.975]\n",
      "------------------------------------------------------------------------------------\n",
      "const               -0.1523      0.013    -11.594      0.000      -0.178      -0.127\n",
      "kilometers          -0.2769      0.012    -22.967      0.000      -0.301      -0.253\n",
      "horse_power          0.5084      0.010     50.300      0.000       0.489       0.528\n",
      "fabrication_year     0.4440      0.014     31.624      0.000       0.416       0.472\n",
      "==============================================================================\n",
      "Omnibus:                      544.068   Durbin-Watson:                   1.950\n",
      "Prob(Omnibus):                  0.000   Jarque-Bera (JB):             1207.366\n",
      "Skew:                           1.113   Prob(JB):                    6.67e-263\n",
      "Kurtosis:                       5.339   Cond. No.                         15.0\n",
      "==============================================================================\n",
      "\n",
      "Notes:\n",
      "[1] Standard Errors assume that the covariance matrix of the errors is correctly specified.\n"
     ]
    }
   ],
   "source": [
    "X_train_new = build_model(X_train_rfe, y_train)"
   ]
  },
  {
   "cell_type": "markdown",
   "id": "ebc64cd2",
   "metadata": {},
   "source": [
    "##### Parametri cu o valoare Prob (F-statistic) > 0.05 (alfa) trebuie eliminati\n",
    "\n",
    "> The significance level α (alfa) is the probability of making the wrong decision when the null hypothesis is true. "
   ]
  },
  {
   "cell_type": "code",
   "execution_count": 20,
   "id": "9d9424df",
   "metadata": {},
   "outputs": [],
   "source": [
    "# X_train_new = X_train_new.drop(['cubic_centimeters'], axis = 1)\n",
    "# X_train_new = build_model(X_train_new, y_train)"
   ]
  },
  {
   "cell_type": "markdown",
   "id": "f8afc302",
   "metadata": {},
   "source": [
    "## 11. Calculul factorului de inflatie a variatiei\n",
    "\n",
    "`VIF` = Variance Inflation Factor, for one exogenous variable.\n",
    "\n",
    "> The variance inflation factor is a measure for the increase of the variance of the parameter estimates if an additional variable, given by exog_idx is added to the linear regression.  \n",
    "> It is a measure for multicollinearity of the design matrix, exog.  \n",
    "> \n",
    "> One recommendation is that if VIF is greater than 5, then the explanatory variable given by exog_idx is highly collinear with the other explanatory variables.  \n",
    "> The parameter estimates will have large standard errors because of this."
   ]
  },
  {
   "cell_type": "code",
   "execution_count": 21,
   "id": "e24d6c6b",
   "metadata": {},
   "outputs": [
    {
     "data": {
      "text/html": [
       "<div>\n",
       "<style scoped>\n",
       "    .dataframe tbody tr th:only-of-type {\n",
       "        vertical-align: middle;\n",
       "    }\n",
       "\n",
       "    .dataframe tbody tr th {\n",
       "        vertical-align: top;\n",
       "    }\n",
       "\n",
       "    .dataframe thead th {\n",
       "        text-align: right;\n",
       "    }\n",
       "</style>\n",
       "<table border=\"1\" class=\"dataframe\">\n",
       "  <thead>\n",
       "    <tr style=\"text-align: right;\">\n",
       "      <th></th>\n",
       "      <th>Features</th>\n",
       "      <th>VIF</th>\n",
       "    </tr>\n",
       "  </thead>\n",
       "  <tbody>\n",
       "    <tr>\n",
       "      <th>1</th>\n",
       "      <td>horse_power</td>\n",
       "      <td>6.54</td>\n",
       "    </tr>\n",
       "    <tr>\n",
       "      <th>2</th>\n",
       "      <td>fabrication_year</td>\n",
       "      <td>5.64</td>\n",
       "    </tr>\n",
       "    <tr>\n",
       "      <th>0</th>\n",
       "      <td>kilometers</td>\n",
       "      <td>3.06</td>\n",
       "    </tr>\n",
       "  </tbody>\n",
       "</table>\n",
       "</div>"
      ],
      "text/plain": [
       "           Features   VIF\n",
       "1       horse_power  6.54\n",
       "2  fabrication_year  5.64\n",
       "0        kilometers  3.06"
      ]
     },
     "execution_count": 21,
     "metadata": {},
     "output_type": "execute_result"
    }
   ],
   "source": [
    "def checkVIF(X):\n",
    "    vif = pd.DataFrame()\n",
    "    vif['Features'] = X.columns\n",
    "    vif['VIF'] = [variance_inflation_factor(X.values, i) for i in range(X.shape[1])]\n",
    "    vif['VIF'] = round(vif['VIF'], 2)\n",
    "    vif = vif.sort_values(by = \"VIF\", ascending = False)\n",
    "    return(vif)\n",
    "\n",
    "checkVIF(X_train)"
   ]
  },
  {
   "cell_type": "markdown",
   "id": "558a745a",
   "metadata": {},
   "source": [
    "### Deleting > 5 values"
   ]
  },
  {
   "cell_type": "code",
   "execution_count": 22,
   "id": "9973d2be",
   "metadata": {},
   "outputs": [],
   "source": [
    "# X_train_new = X_train_new.drop(['horse_power'], axis = 1)\n",
    "# X_train_new = build_model(X_train_new, y_train)\n",
    "\n",
    "# checkVIF(X_train_new)"
   ]
  },
  {
   "cell_type": "markdown",
   "id": "6f1cb03c",
   "metadata": {},
   "source": [
    "## 12. Analiza distributiei erorilor, y_train vs y_train_predict\n",
    "\n",
    "Se analizeaza erorile intre pretul estimat din `y_train_predict` vs pretul real din `y_train`"
   ]
  },
  {
   "cell_type": "code",
   "execution_count": 23,
   "id": "22f933a1",
   "metadata": {},
   "outputs": [
    {
     "data": {
      "image/png": "[encoded data removed]",
      "text/plain": [
       "<Figure size 432x288 with 1 Axes>"
      ]
     },
     "metadata": {
      "needs_background": "light"
     },
     "output_type": "display_data"
    }
   ],
   "source": [
    "lm = sm.OLS(y_train, X_train_new).fit()\n",
    "y_train_predict = lm.predict(X_train_new)\n",
    "\n",
    "# Plot the histogram of the error terms\n",
    "fig = plt.figure()\n",
    "sea.distplot((y_train - y_train_predict), bins = 30)\n",
    "fig.suptitle('Distributia Erorilor', fontsize = 16)\n",
    "plt.xlabel('Erori', fontsize = 14)\n",
    "plt.show()"
   ]
  },
  {
   "cell_type": "markdown",
   "id": "21a7304b",
   "metadata": {},
   "source": [
    "Termenii de eroare par a fii aproximativ normal distribuiti, ipoteza unui model liniar se adevereste."
   ]
  },
  {
   "cell_type": "markdown",
   "id": "9138240a",
   "metadata": {},
   "source": [
    "## 13. Preziceri pe datasetul df_test"
   ]
  },
  {
   "cell_type": "code",
   "execution_count": 24,
   "id": "45d54189",
   "metadata": {},
   "outputs": [],
   "source": [
    "# Scaling the test set\n",
    "df_test[dtype] = scaler.fit_transform(df_test[dtype])"
   ]
  },
  {
   "cell_type": "code",
   "execution_count": 25,
   "id": "e9421ef0",
   "metadata": {},
   "outputs": [],
   "source": [
    "# Dividing into X and y\n",
    "X_test = df_test\n",
    "y_test = df_test.copy().pop('price')"
   ]
  },
  {
   "cell_type": "code",
   "execution_count": 26,
   "id": "f6413c9a",
   "metadata": {},
   "outputs": [],
   "source": [
    "# Now let's use our model to make predictions.\n",
    "X_train_new = X_train_new.drop('const', axis=1)\n",
    "\n",
    "# Creating X_test_new dataframe by dropping variables from X_test\n",
    "X_test_new = X_test[X_train_new.columns]\n",
    "\n",
    "# Adding a constant variable \n",
    "X_test_new = sm.add_constant(X_test_new)"
   ]
  },
  {
   "cell_type": "code",
   "execution_count": 27,
   "id": "f3a19a8d",
   "metadata": {},
   "outputs": [],
   "source": [
    "# Making predictions\n",
    "y_pred = lm.predict(X_test_new)"
   ]
  },
  {
   "cell_type": "markdown",
   "id": "2bf673bf",
   "metadata": {},
   "source": [
    "## 14. Evaluarea modelului"
   ]
  },
  {
   "cell_type": "markdown",
   "id": "4565dcaf",
   "metadata": {},
   "source": [
    "### R^2, coeficientul de determinare"
   ]
  },
  {
   "cell_type": "markdown",
   "id": "6a6f9a11",
   "metadata": {},
   "source": [
    "`R^2` = (coefficient of determination) regression score function\n",
    "\n",
    ">Best possible score is 1.0 and it can be negative (because the model can be arbitrarily worse).   \n",
    "> \n",
    ">A constant model that always predicts the expected value of y, disregarding the input features, would get a R^2 score of 0.0."
   ]
  },
  {
   "cell_type": "code",
   "execution_count": 28,
   "id": "901ea0bb",
   "metadata": {},
   "outputs": [
    {
     "name": "stdout",
     "output_type": "stream",
     "text": [
      "r^2 = 0.7101725753632786\n"
     ]
    }
   ],
   "source": [
    "from sklearn.metrics import r2_score \n",
    "r2 = r2_score(y_test, y_pred)\n",
    "\n",
    "print('r^2 = {}'.format(r2))"
   ]
  },
  {
   "cell_type": "markdown",
   "id": "0ad3c696",
   "metadata": {},
   "source": [
    "### Reprentarea grafica y_test vs y_pred"
   ]
  },
  {
   "cell_type": "code",
   "execution_count": 29,
   "id": "aaea5b58",
   "metadata": {},
   "outputs": [
    {
     "data": {
      "image/png": "[encoded data removed]",
      "text/plain": [
       "<Figure size 432x288 with 1 Axes>"
      ]
     },
     "metadata": {
      "needs_background": "light"
     },
     "output_type": "display_data"
    }
   ],
   "source": [
    "fig = plt.figure()\n",
    "plt.scatter(y_test, y_pred)\n",
    "fig.suptitle('y_test vs y_pred', fontsize=18)\n",
    "plt.xlabel('y_test', fontsize=14)\n",
    "plt.ylabel('y_pred', fontsize=14)\n",
    "plt.show()"
   ]
  },
  {
   "cell_type": "markdown",
   "id": "56aa97a8",
   "metadata": {},
   "source": [
    "### Descrierea modelului"
   ]
  },
  {
   "cell_type": "code",
   "execution_count": 30,
   "id": "9a74f935",
   "metadata": {},
   "outputs": [
    {
     "name": "stdout",
     "output_type": "stream",
     "text": [
      "                            OLS Regression Results                            \n",
      "==============================================================================\n",
      "Dep. Variable:                  price   R-squared:                       0.744\n",
      "Model:                            OLS   Adj. R-squared:                  0.744\n",
      "Method:                 Least Squares   F-statistic:                     2695.\n",
      "Date:                Fri, 09 Apr 2021   Prob (F-statistic):               0.00\n",
      "Time:                        15:59:06   Log-Likelihood:                 2446.9\n",
      "No. Observations:                2780   AIC:                            -4886.\n",
      "Df Residuals:                    2776   BIC:                            -4862.\n",
      "Df Model:                           3                                         \n",
      "Covariance Type:            nonrobust                                         \n",
      "====================================================================================\n",
      "                       coef    std err          t      P>|t|      [0.025      0.975]\n",
      "------------------------------------------------------------------------------------\n",
      "const               -0.1523      0.013    -11.594      0.000      -0.178      -0.127\n",
      "kilometers          -0.2769      0.012    -22.967      0.000      -0.301      -0.253\n",
      "horse_power          0.5084      0.010     50.300      0.000       0.489       0.528\n",
      "fabrication_year     0.4440      0.014     31.624      0.000       0.416       0.472\n",
      "==============================================================================\n",
      "Omnibus:                      544.068   Durbin-Watson:                   1.950\n",
      "Prob(Omnibus):                  0.000   Jarque-Bera (JB):             1207.366\n",
      "Skew:                           1.113   Prob(JB):                    6.67e-263\n",
      "Kurtosis:                       5.339   Cond. No.                         15.0\n",
      "==============================================================================\n",
      "\n",
      "Notes:\n",
      "[1] Standard Errors assume that the covariance matrix of the errors is correctly specified.\n"
     ]
    }
   ],
   "source": [
    "print(lm.summary())"
   ]
  },
  {
   "cell_type": "code",
   "execution_count": 31,
   "id": "4364f2bc",
   "metadata": {},
   "outputs": [
    {
     "name": "stdout",
     "output_type": "stream",
     "text": [
      "R-squred and Adjusted R-squared ~= 0.7101725753632786\n"
     ]
    }
   ],
   "source": [
    "print('R-squred and Adjusted R-squared ~= {}'.format(r2))"
   ]
  },
  {
   "cell_type": "markdown",
   "id": "5eeab3af",
   "metadata": {},
   "source": [
    "F-statistic > 2500  \n",
    "Prob(F-statistic) (overall model fit) == 0\n",
    "\n",
    "> The F statistic must be used in combination with the p value when you are deciding if your overall results are significant. Why? If you have a significant result, it doesn’t mean that all your variables are significant. The statistic is just comparing the joint effect of all the variables together.\n",
    ">\n",
    "> 1. If the p value is less than the alpha level, go to Step 2 (otherwise your results are not significant and you cannot reject the null hypothesis). A common alpha level for tests is 0.05.\n",
    ">\n",
    "> 2. Study the individual p values to find out which of the individual variables are statistically significant."
   ]
  }
 ],
 "metadata": {
  "kernelspec": {
   "display_name": "Python 3",
   "language": "python",
   "name": "python3"
  },
  "language_info": {
   "codemirror_mode": {
    "name": "ipython",
    "version": 3
   },
   "file_extension": ".py",
   "mimetype": "text/x-python",
   "name": "python",
   "nbconvert_exporter": "python",
   "pygments_lexer": "ipython3",
   "version": "3.9.1"
  }
 },
 "nbformat": 4,
 "nbformat_minor": 5
}
